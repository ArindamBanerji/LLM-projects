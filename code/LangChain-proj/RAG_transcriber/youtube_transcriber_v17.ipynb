{
  "nbformat": 4,
  "nbformat_minor": 0,
  "metadata": {
    "colab": {
      "provenance": [],
      "machine_shape": "hm",
      "gpuType": "L4"
    },
    "kernelspec": {
      "name": "python3",
      "display_name": "Python 3"
    },
    "language_info": {
      "name": "python"
    },
    "accelerator": "GPU"
  },
  "cells": [
    {
      "cell_type": "markdown",
      "source": [
        "# -*- coding: utf-8 -*-\n",
        "\"\"\"youtube_transcriber_v17.ipynb\n",
        "\n",
        "A script to download YouTube videos and transcribe them using OpenAI's Whisper API.\n",
        "Designed to run in Google Colab.\n",
        "\"\"\"\n"
      ],
      "metadata": {
        "id": "qyFv24YqLwko"
      }
    },
    {
      "cell_type": "code",
      "source": [
        "import subprocess\n",
        "import sys\n",
        "\n",
        "def install_requirements():\n",
        "    \"\"\"Install required packages using pip.\"\"\"\n",
        "    try:\n",
        "        # Install system packages\n",
        "        subprocess.check_call(['apt-get', 'update'])\n",
        "        subprocess.check_call(['apt-get', 'install', '-y', 'ffmpeg'])\n",
        "\n",
        "        # Install Python packages\n",
        "        packages = [\n",
        "            'yt-dlp',\n",
        "            'openai',\n",
        "            'pydub',\n",
        "            'google-colab'\n",
        "        ]\n",
        "        for package in packages:\n",
        "            subprocess.check_call([sys.executable, \"-m\", \"pip\", \"install\", \"--upgrade\", package])\n",
        "    except Exception as e:\n",
        "        print(f\"Error installing requirements: {str(e)}\")\n",
        "        raise\n"
      ],
      "metadata": {
        "id": "n5SdXg-VL7Oj"
      },
      "execution_count": 1,
      "outputs": []
    },
    {
      "cell_type": "code",
      "source": [
        "\n",
        "\n",
        "# Install required packages\n",
        "install_requirements()\n",
        "\n",
        "import yt_dlp\n",
        "import openai\n",
        "import os\n",
        "import shutil\n",
        "from pathlib import Path\n",
        "import sys\n",
        "import logging\n",
        "from datetime import datetime\n",
        "import re\n",
        "from pydub import AudioSegment\n",
        "import math\n",
        "from google.colab import drive\n",
        "from google.colab import userdata\n"
      ],
      "metadata": {
        "id": "Mpjp5aRqMAw-"
      },
      "execution_count": 2,
      "outputs": []
    },
    {
      "cell_type": "code",
      "source": [
        "\n",
        "# VARS: Set default variables\n",
        "DEFAULT_VERSION = 'v36'\n",
        "DEFAULT_BASE_DIR = \"/content/drive/My Drive/python-projects/kaggle_experiments/transcriber/\"\n",
        "default_youtube_url = \"https://www.youtube.com/watch?v=cdiD-9MMpb0\"\n"
      ],
      "metadata": {
        "id": "JP1hYh-oMEpl"
      },
      "execution_count": 3,
      "outputs": []
    },
    {
      "cell_type": "code",
      "source": [
        "\n",
        "# Mount Google Drive if not already mounted\n",
        "if not os.path.exists(\"/content/drive\"):\n",
        "    drive.mount('/content/drive')\n"
      ],
      "metadata": {
        "colab": {
          "base_uri": "https://localhost:8080/"
        },
        "id": "gYypnHVtMIS2",
        "outputId": "8bc74842-d2b8-4191-e246-780ac3439f29"
      },
      "execution_count": 4,
      "outputs": [
        {
          "output_type": "stream",
          "name": "stdout",
          "text": [
            "Mounted at /content/drive\n"
          ]
        }
      ]
    },
    {
      "cell_type": "code",
      "source": [
        "# Configure logging\n",
        "logging.basicConfig(\n",
        "    level=logging.INFO,\n",
        "    format='%(asctime)s - %(levelname)s - %(message)s'\n",
        ")\n",
        "logger = logging.getLogger(__name__)\n"
      ],
      "metadata": {
        "id": "oindEx7eMLoB"
      },
      "execution_count": 5,
      "outputs": []
    },
    {
      "cell_type": "code",
      "source": [
        "# Set up OpenAI client\n",
        "os.environ[\"OPENAI_API_KEY\"] = userdata.get('OPENAI_API_KEY')\n",
        "OPENAI_API_KEY = os.getenv(\"OPENAI_API_KEY\")\n",
        "client = openai.OpenAI(api_key=OPENAI_API_KEY)\n"
      ],
      "metadata": {
        "id": "ZUwuRNR8MO8i"
      },
      "execution_count": 6,
      "outputs": []
    },
    {
      "cell_type": "code",
      "source": [
        "def setup_directory(base_dir, version_num, clean_dir=True):\n",
        "    \"\"\"\n",
        "    Set up the working directory.\n",
        "\n",
        "    Args:\n",
        "        base_dir (str): Base directory path\n",
        "        version_num (str): Version number for directory naming\n",
        "        clean_dir (bool): Whether to delete and recreate directory if it exists\n",
        "\n",
        "    Returns:\n",
        "        str: Full path of working directory\n",
        "    \"\"\"\n",
        "    dir_nm = \"transcriber\" + \"_\" + version_num\n",
        "    full_dir = os.path.join(base_dir, dir_nm)\n",
        "\n",
        "    if os.path.exists(full_dir) and clean_dir:\n",
        "        logger.info(f\"Removing existing directory: {full_dir}\")\n",
        "        shutil.rmtree(full_dir)\n",
        "\n",
        "    os.makedirs(full_dir, exist_ok=True)\n",
        "    logger.info(f\"Using directory: {full_dir}\")\n",
        "    return full_dir\n"
      ],
      "metadata": {
        "id": "xoEyqsxnMSMm"
      },
      "execution_count": 7,
      "outputs": []
    },
    {
      "cell_type": "code",
      "source": [
        "\n",
        "class AudioProcessingError(Exception):\n",
        "    \"\"\"Custom exception for audio processing errors.\"\"\"\n",
        "    pass\n"
      ],
      "metadata": {
        "id": "mKA3eLRgMZg-"
      },
      "execution_count": 8,
      "outputs": []
    },
    {
      "cell_type": "code",
      "source": [
        "def split_audio(audio_path, chunk_duration_minutes=10):\n",
        "    \"\"\"\n",
        "    Split audio file into smaller chunks.\n",
        "\n",
        "    Args:\n",
        "        audio_path (Path): Path to the audio file\n",
        "        chunk_duration_minutes (int): Duration of each chunk in minutes\n",
        "\n",
        "    Returns:\n",
        "        list: List of paths to chunk files\n",
        "    \"\"\"\n",
        "    logger.info(f\"Splitting audio file: {audio_path}\")\n",
        "    chunk_paths = []\n",
        "\n",
        "    try:\n",
        "        # Load audio file\n",
        "        audio = AudioSegment.from_mp3(str(audio_path))\n",
        "\n",
        "        # Calculate duration and number of chunks\n",
        "        duration_ms = len(audio)\n",
        "        chunk_duration_ms = chunk_duration_minutes * 60 * 1000\n",
        "        num_chunks = math.ceil(duration_ms / chunk_duration_ms)\n",
        "\n",
        "        logger.info(f\"Audio duration: {duration_ms/1000/60:.2f} minutes\")\n",
        "        logger.info(f\"Splitting into {num_chunks} chunks of {chunk_duration_minutes} minutes each\")\n",
        "\n",
        "        # Create chunks directory\n",
        "        chunks_dir = audio_path.parent / \"chunks\"\n",
        "        chunks_dir.mkdir(exist_ok=True)\n",
        "\n",
        "        # Split audio into chunks\n",
        "        for i in range(num_chunks):\n",
        "            start_ms = i * chunk_duration_ms\n",
        "            end_ms = min((i + 1) * chunk_duration_ms, duration_ms)\n",
        "\n",
        "            chunk = audio[start_ms:end_ms]\n",
        "            chunk_path = chunks_dir / f\"chunk_{i+1}.mp3\"\n",
        "            chunk.export(str(chunk_path), format=\"mp3\")\n",
        "\n",
        "            chunk_paths.append(chunk_path)\n",
        "            logger.info(f\"Created chunk {i+1}/{num_chunks}: {chunk_path}\")\n",
        "\n",
        "    except Exception as e:\n",
        "        logger.error(f\"Error splitting audio: {str(e)}\")\n",
        "        raise AudioProcessingError(f\"Failed to split audio: {str(e)}\")\n",
        "\n",
        "    return chunk_paths\n"
      ],
      "metadata": {
        "id": "vtDwSn3-Me_n"
      },
      "execution_count": 9,
      "outputs": []
    },
    {
      "cell_type": "code",
      "source": [
        "def validate_youtube_url(url):\n",
        "    \"\"\"\n",
        "    Validate if the URL is a valid YouTube URL.\n",
        "\n",
        "    Args:\n",
        "        url (str): URL to validate\n",
        "\n",
        "    Returns:\n",
        "        bool: True if valid, False otherwise\n",
        "    \"\"\"\n",
        "    youtube_regex = (\n",
        "        r'(https?://)?(www\\.)?'\n",
        "        '(youtube|youtu|youtube-nocookie)\\.(com|be)/'\n",
        "        '(watch\\?v=|embed/|v/|.+\\?v=)?([^&=%\\?]{11})')\n",
        "\n",
        "    match = re.match(youtube_regex, url)\n",
        "    return bool(match)\n"
      ],
      "metadata": {
        "id": "AXztR22sMknc"
      },
      "execution_count": 10,
      "outputs": []
    },
    {
      "cell_type": "code",
      "source": [
        "def download_youtube_audio(url, output_path=\"audio\"):\n",
        "    \"\"\"\n",
        "    Download audio from a YouTube video.\n",
        "\n",
        "    Args:\n",
        "        url (str): YouTube video URL\n",
        "        output_path (str): Directory to save the audio file\n",
        "\n",
        "    Returns:\n",
        "        str: Path to the downloaded audio file\n",
        "    \"\"\"\n",
        "    if not validate_youtube_url(url):\n",
        "        raise ValueError(\"Invalid YouTube URL provided\")\n",
        "\n",
        "    # Create output directory if it doesn't exist\n",
        "    output_path = Path(output_path)\n",
        "    output_path.mkdir(parents=True, exist_ok=True)\n",
        "\n",
        "    # Generate timestamp-based filename\n",
        "    timestamp = datetime.now().strftime(\"%Y%m%d_%H%M%S\")\n",
        "    output_template = str(output_path / f\"audio_{timestamp}.%(ext)s\")\n",
        "\n",
        "    # Configure yt-dlp options\n",
        "    ydl_opts = {\n",
        "        'format': 'bestaudio/best',\n",
        "        'postprocessors': [{\n",
        "            'key': 'FFmpegExtractAudio',\n",
        "            'preferredcodec': 'mp3',\n",
        "            'preferredquality': '192',\n",
        "        }],\n",
        "        'outtmpl': output_template,\n",
        "        'quiet': False,\n",
        "    }\n",
        "\n",
        "    try:\n",
        "        with yt_dlp.YoutubeDL(ydl_opts) as ydl:\n",
        "            info = ydl.extract_info(url, download=True)\n",
        "            audio_file = str(output_path / f\"audio_{timestamp}.mp3\")\n",
        "\n",
        "            if not os.path.exists(audio_file):\n",
        "                raise FileNotFoundError(f\"Audio file not found at {audio_file}\")\n",
        "\n",
        "            return audio_file\n",
        "\n",
        "    except Exception as e:\n",
        "        logger.error(f\"Error downloading audio: {str(e)}\")\n",
        "        raise AudioProcessingError(f\"Failed to download audio: {str(e)}\")\n"
      ],
      "metadata": {
        "id": "tRAnmydvMrWB"
      },
      "execution_count": 11,
      "outputs": []
    },
    {
      "cell_type": "code",
      "source": [
        "def transcribe_audio_chunk(chunk_path, client):\n",
        "    \"\"\"\n",
        "    Transcribe an audio chunk using OpenAI's Whisper API.\n",
        "\n",
        "    Args:\n",
        "        chunk_path (Path): Path to the audio chunk\n",
        "        client: OpenAI client instance\n",
        "\n",
        "    Returns:\n",
        "        str: Transcribed text\n",
        "    \"\"\"\n",
        "    if not chunk_path.exists():\n",
        "        raise FileNotFoundError(f\"Audio chunk not found: {chunk_path}\")\n",
        "\n",
        "    try:\n",
        "        with chunk_path.open('rb') as audio:\n",
        "            response = client.audio.transcriptions.create(\n",
        "                model=\"whisper-1\",\n",
        "                file=audio,\n",
        "                response_format=\"text\"\n",
        "            )\n",
        "            return response\n",
        "    except Exception as e:\n",
        "        logger.error(f\"Error transcribing chunk {chunk_path}: {str(e)}\")\n",
        "        raise\n"
      ],
      "metadata": {
        "id": "4IUcO7ljMwvw"
      },
      "execution_count": 12,
      "outputs": []
    },
    {
      "cell_type": "code",
      "source": [
        "def save_transcript(transcript):\n",
        "    \"\"\"\n",
        "    Save the transcript to a text file.\n",
        "\n",
        "    Args:\n",
        "        transcript (str): Transcribed text\n",
        "\n",
        "    Returns:\n",
        "        str: Path to the saved transcript file\n",
        "    \"\"\"\n",
        "    output_file = os.path.join(full_path_nm, \"transcript.txt\")\n",
        "\n",
        "    try:\n",
        "        with open(output_file, 'w', encoding='utf-8') as f:\n",
        "            f.write(transcript)\n",
        "        logger.info(f\"Transcript saved to {output_file}\")\n",
        "        return output_file\n",
        "    except Exception as e:\n",
        "        logger.error(f\"Error saving transcript: {str(e)}\")\n",
        "        raise\n"
      ],
      "metadata": {
        "id": "iVNuKhb7M1Jh"
      },
      "execution_count": 13,
      "outputs": []
    },
    {
      "cell_type": "code",
      "source": [
        "def save_url_to_file(url):\n",
        "    \"\"\"\n",
        "    Save the YouTube URL to a text file.\n",
        "\n",
        "    Args:\n",
        "        url (str): YouTube URL to save\n",
        "\n",
        "    Returns:\n",
        "        str: Path to the saved URL file\n",
        "    \"\"\"\n",
        "    timestamp = datetime.now().strftime(\"%Y%m%d_%H%M%S\")\n",
        "    filename = f\"youtube_url_transcribed_{timestamp}.txt\"\n",
        "    url_file = os.path.join(full_path_nm, filename)\n",
        "\n",
        "    try:\n",
        "        with open(url_file, 'w') as f:\n",
        "            f.write(f\"YouTube URL: {url}\\nProcessed on: {datetime.now().strftime('%Y-%m-%d %H:%M:%S')}\")\n",
        "        logger.info(f\"URL saved to: {url_file}\")\n",
        "        return url_file\n",
        "    except Exception as e:\n",
        "        logger.error(f\"Error saving URL to file: {str(e)}\")\n",
        "        raise\n"
      ],
      "metadata": {
        "id": "Q88EU00kM5yx"
      },
      "execution_count": 14,
      "outputs": []
    },
    {
      "cell_type": "code",
      "source": [
        "def cleanup_files(files):\n",
        "    \"\"\"\n",
        "    Clean up temporary files.\n",
        "\n",
        "    Args:\n",
        "        files (list): List of file paths to clean up\n",
        "    \"\"\"\n",
        "    for file_path in files:\n",
        "        try:\n",
        "            if isinstance(file_path, str):\n",
        "                file_path = Path(file_path)\n",
        "            if file_path.exists():\n",
        "                file_path.unlink()\n",
        "                logger.info(f\"Cleaned up: {file_path}\")\n",
        "        except Exception as e:\n",
        "            logger.error(f\"Error cleaning up {file_path}: {str(e)}\")\n"
      ],
      "metadata": {
        "id": "iQNT0uELM-Sn"
      },
      "execution_count": 15,
      "outputs": []
    },
    {
      "cell_type": "code",
      "execution_count": 16,
      "metadata": {
        "id": "Sxo1u5rgLWB8"
      },
      "outputs": [],
      "source": [
        "def process_video(youtube_url=None, version_num=None, clean_dir=True, base_dir=None):\n",
        "    \"\"\"\n",
        "    Process a YouTube video and create its transcript.\n",
        "\n",
        "    Args:\n",
        "        youtube_url (str, optional): YouTube URL to process\n",
        "        version_num (str, optional): Version number for directory naming\n",
        "        clean_dir (bool, optional): Whether to delete and recreate directory\n",
        "        base_dir (str, optional): Base directory for storing files. If None, uses default.\n",
        "    \"\"\"\n",
        "    global full_path_nm\n",
        "\n",
        "    # Set base directory\n",
        "    working_base_dir = base_dir if base_dir is not None else DEFAULT_BASE_DIR\n",
        "    logger.info(f\"Using base directory: {working_base_dir}\")\n",
        "\n",
        "    # Set version number\n",
        "    version_number = version_num if version_num is not None else DEFAULT_VERSION\n",
        "\n",
        "    # Setup directory\n",
        "    full_path_nm = setup_directory(working_base_dir, version_number, clean_dir)\n",
        "\n",
        "    # Change to working directory\n",
        "    cwd = os.getcwd()\n",
        "    if not os.path.samefile(cwd, full_path_nm):\n",
        "        os.chdir(full_path_nm)\n",
        "    logger.info(f\"Working directory: {os.getcwd()}\")\n",
        "\n",
        "    # Default YouTube video URL if none provided\n",
        "    if youtube_url is None or youtube_url.strip() == \"\":\n",
        "        youtube_url = default_youtube_url\n",
        "        logger.warning(f\"No YouTube URL provided. Using default: {youtube_url}\")\n",
        "\n",
        "    audio_file = None\n",
        "    chunk_paths = []\n",
        "    created_files = []  # Track all created files\n",
        "    permanent_files = []  # Track files that will be kept\n",
        "\n",
        "    try:\n",
        "        # Verify OpenAI API key\n",
        "        if not OPENAI_API_KEY:\n",
        "            raise ValueError(\"OpenAI API key not found in environment variables\")\n",
        "\n",
        "        # Generate timestamp for consistent file naming\n",
        "        timestamp = datetime.now().strftime(\"%Y%m%d_%H%M%S\")\n",
        "\n",
        "        # Download audio\n",
        "        logger.info(\"Downloading audio...\")\n",
        "        audio_file = download_youtube_audio(youtube_url, output_path=full_path_nm)\n",
        "        created_files.append(audio_file)\n",
        "        logger.info(f\"Audio downloaded: {audio_file}\")\n",
        "\n",
        "        # Split audio into chunks\n",
        "        logger.info(\"Splitting audio into chunks...\")\n",
        "        chunk_paths = split_audio(Path(audio_file))\n",
        "        created_files.extend([str(p) for p in chunk_paths])\n",
        "\n",
        "        # Transcribe each chunk\n",
        "        logger.info(\"Transcribing audio chunks...\")\n",
        "        full_transcript = []\n",
        "\n",
        "        for i, chunk_path in enumerate(chunk_paths, 1):\n",
        "            logger.info(f\"Transcribing chunk {i}/{len(chunk_paths)}...\")\n",
        "            chunk_transcript = transcribe_audio_chunk(chunk_path, client)\n",
        "            full_transcript.append(chunk_transcript)\n",
        "\n",
        "        # Save transcript\n",
        "        final_transcript = \"\\n\\n\".join(full_transcript)\n",
        "        transcript_file = save_transcript(final_transcript)\n",
        "        permanent_files.append(transcript_file)\n",
        "\n",
        "        # Save URL to file\n",
        "        try:\n",
        "            url_file = save_url_to_file(youtube_url)\n",
        "            permanent_files.append(url_file)\n",
        "        except Exception as e:\n",
        "            logger.error(f\"Failed to save URL file: {e}\")\n",
        "\n",
        "        # Print summary of all files created during this run\n",
        "        logger.info(\"\\nFiles created in this run:\")\n",
        "        logger.info(\"\\nPermanent files (kept in directory):\")\n",
        "        for file_path in permanent_files:\n",
        "            logger.info(f\"- {os.path.abspath(file_path)}\")\n",
        "\n",
        "        logger.info(\"\\nTemporary files (will be cleaned up):\")\n",
        "        temp_files = [f for f in created_files if f not in permanent_files]\n",
        "        for file_path in temp_files:\n",
        "            logger.info(f\"- {os.path.abspath(file_path)}\")\n",
        "\n",
        "    except Exception as e:\n",
        "        logger.error(f\"An error occurred: {str(e)}\")\n",
        "        raise\n",
        "\n",
        "    finally:\n",
        "        # Clean up temporary files but keep the transcript and URL file\n",
        "        logger.info(\"\\nCleaning up temporary files...\")\n",
        "        cleanup_files([f for f in created_files if f not in permanent_files])\n",
        "        if chunk_paths:\n",
        "            chunks_dir = Path(chunk_paths[0]).parent\n",
        "            try:\n",
        "                chunks_dir.rmdir()\n",
        "                logger.info(\"Cleaned up chunks directory\")\n",
        "            except Exception as e:\n",
        "                logger.error(f\"Error cleaning up chunks directory: {str(e)}\")\n",
        "\n",
        "        # Final summary of permanent files\n",
        "        logger.info(\"\\nFinal files stored in directory:\")\n",
        "        for file_path in permanent_files:\n",
        "            logger.info(f\"- {os.path.abspath(file_path)}\")\n",
        "\n"
      ]
    },
    {
      "cell_type": "code",
      "source": [
        "if __name__ == \"__main__\":\n",
        "    # Default execution - use all defaults\n",
        "    process_video()\n",
        "\n",
        "    # Example with custom base directory:\n",
        "    # custom_base_dir = \"/path/to/custom/directory\"\n",
        "    # process_video(base_dir=custom_base_dir)\n"
      ],
      "metadata": {
        "colab": {
          "base_uri": "https://localhost:8080/"
        },
        "id": "hOvKeKvILokv",
        "outputId": "d5913714-8de5-4281-d7a9-c110e03bf052"
      },
      "execution_count": 17,
      "outputs": [
        {
          "output_type": "stream",
          "name": "stderr",
          "text": [
            "WARNING:__main__:No YouTube URL provided. Using default: https://www.youtube.com/watch?v=cdiD-9MMpb0\n"
          ]
        },
        {
          "output_type": "stream",
          "name": "stdout",
          "text": [
            "[youtube] Extracting URL: https://www.youtube.com/watch?v=cdiD-9MMpb0\n",
            "[youtube] cdiD-9MMpb0: Downloading webpage\n",
            "[youtube] cdiD-9MMpb0: Downloading ios player API JSON\n",
            "[youtube] cdiD-9MMpb0: Downloading mweb player API JSON\n",
            "[youtube] cdiD-9MMpb0: Downloading player f8f53e1a\n",
            "[youtube] cdiD-9MMpb0: Downloading m3u8 information\n",
            "[info] cdiD-9MMpb0: Downloading 1 format(s): 251\n",
            "[download] Destination: /content/drive/My Drive/python-projects/kaggle_experiments/transcriber/transcriber_v36/audio_20241214_221338.webm\n",
            "[download] 100% of  167.01MiB in 00:00:03 at 44.85MiB/s  \n",
            "[ExtractAudio] Destination: /content/drive/My Drive/python-projects/kaggle_experiments/transcriber/transcriber_v36/audio_20241214_221338.mp3\n",
            "Deleting original file /content/drive/My Drive/python-projects/kaggle_experiments/transcriber/transcriber_v36/audio_20241214_221338.webm (pass -k to keep)\n"
          ]
        }
      ]
    }
  ]
}