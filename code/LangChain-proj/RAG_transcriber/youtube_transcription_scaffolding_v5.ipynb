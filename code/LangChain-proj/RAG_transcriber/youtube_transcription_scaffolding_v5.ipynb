{
  "nbformat": 4,
  "nbformat_minor": 0,
  "metadata": {
    "colab": {
      "provenance": [],
      "machine_shape": "hm",
      "gpuType": "L4"
    },
    "kernelspec": {
      "name": "python3",
      "display_name": "Python 3"
    },
    "language_info": {
      "name": "python"
    },
    "accelerator": "GPU"
  },
  "cells": [
    {
      "cell_type": "markdown",
      "source": [
        "# -*- coding: utf-8 -*-\n",
        "\"\"\"youtube_scaffolding_v5.ipynb\n",
        "\n",
        "A scaffolding script to invoke the YouTube transcriber module and verify its output.\n",
        "Designed to run in Google Colab.\n",
        "\"\"\"\n"
      ],
      "metadata": {
        "id": "Gq_AV5AOxCb0"
      }
    },
    {
      "cell_type": "code",
      "source": [
        "import subprocess\n",
        "import sys\n",
        "\n",
        "def install_requirements():\n",
        "    \"\"\"Install required packages using pip.\"\"\"\n",
        "    packages = [\n",
        "        'importlib',\n",
        "        'pathlib'\n",
        "    ]\n",
        "    try:\n",
        "        for package in packages:\n",
        "            subprocess.check_call([sys.executable, \"-m\", \"pip\", \"install\", \"--upgrade\", package])\n",
        "    except Exception as e:\n",
        "        print(f\"Error installing requirements: {str(e)}\")\n",
        "        sys.exit(1)\n"
      ],
      "metadata": {
        "id": "rio9LzXLxJsy"
      },
      "execution_count": 1,
      "outputs": []
    },
    {
      "cell_type": "code",
      "source": [
        "# Install required packages\n",
        "install_requirements()\n"
      ],
      "metadata": {
        "id": "wuYpQj_QxNNo"
      },
      "execution_count": 2,
      "outputs": []
    },
    {
      "cell_type": "code",
      "source": [
        "# Import required libraries\n",
        "import os\n",
        "import importlib\n",
        "import importlib.util\n",
        "import traceback\n",
        "import time\n",
        "import logging\n",
        "from pathlib import Path\n",
        "from google.colab import drive\n"
      ],
      "metadata": {
        "id": "GGevtZkQxQ0v"
      },
      "execution_count": 3,
      "outputs": []
    },
    {
      "cell_type": "code",
      "source": [
        "# Mount Google Drive\n",
        "drive.mount('/content/drive')\n"
      ],
      "metadata": {
        "id": "JKRXXcsYxUfS",
        "colab": {
          "base_uri": "https://localhost:8080/"
        },
        "outputId": "d3e23eb2-1f4e-4e20-bce2-681efddf0c29"
      },
      "execution_count": 4,
      "outputs": [
        {
          "output_type": "stream",
          "name": "stdout",
          "text": [
            "Drive already mounted at /content/drive; to attempt to forcibly remount, call drive.mount(\"/content/drive\", force_remount=True).\n"
          ]
        }
      ]
    },
    {
      "cell_type": "code",
      "source": [
        "# VARS: Set these variables\n",
        "version_number = 'v39'\n",
        "youtube_url = \"https://www.youtube.com/watch?v=cdiD-9MMpb0\"\n",
        "code_version = 'v17'  # Updated to match current transcriber version\n",
        "# base_dir = \"/content/LLM-projects/code/LangChain-proj/RAG_transcriber/\"\n",
        "\n",
        "root_dir = \"/content/drive/My Drive/python-projects/kaggle_experiments/transcriber/\"\n",
        "\n",
        "repo_git = \"https://github.com/ArindamBanerji/LLM-projects.git\" # git repository\n",
        "local_repo = \"./LLM-projects\" # local directory base for repo\n",
        "root_offest = \"/LLM-projects/code/LangChain-proj/RAG_transcriber/\"\n",
        "base_dir = root_dir + root_offest\n",
        "\n",
        "\n",
        "fnm = \"youtube_transcriber\" + \"_\" + code_version + \".py\"\n",
        "cur_fnm = fnm\n",
        "full_fnm = base_dir + cur_fnm\n",
        "print (full_fnm)\n"
      ],
      "metadata": {
        "id": "GGmUwvjPxYnS",
        "colab": {
          "base_uri": "https://localhost:8080/"
        },
        "outputId": "3a2ad47b-cfc0-455a-ed94-e4eba9636a78"
      },
      "execution_count": 5,
      "outputs": [
        {
          "output_type": "stream",
          "name": "stdout",
          "text": [
            "/content/drive/My Drive/python-projects/kaggle_experiments/transcriber//LLM-projects/code/LangChain-proj/RAG_transcriber/youtube_transcriber_v17.py\n"
          ]
        }
      ]
    },
    {
      "cell_type": "code",
      "source": [
        "# Configure logging\n",
        "logging.basicConfig(\n",
        "    level=logging.INFO,\n",
        "    format='%(asctime)s - %(levelname)s - %(message)s'\n",
        ")\n",
        "logger = logging.getLogger(__name__)\n"
      ],
      "metadata": {
        "id": "VKS9u4llxczK"
      },
      "execution_count": 6,
      "outputs": []
    },
    {
      "cell_type": "code",
      "source": [
        "# go to the root directory - helps for the git pulls\n",
        "import os\n",
        "os.chdir(root_dir)"
      ],
      "metadata": {
        "id": "cS-xARvAXYPY"
      },
      "execution_count": 7,
      "outputs": []
    },
    {
      "cell_type": "code",
      "source": [
        "# idempotent git pull\n",
        "! (test -d $local_repo && git -C $local_repo pull --rebase) || git clone $repo_git"
      ],
      "metadata": {
        "id": "2gay5cMNXZXU",
        "colab": {
          "base_uri": "https://localhost:8080/"
        },
        "outputId": "0920962b-2a0e-4949-8faf-be4c56d631f6"
      },
      "execution_count": 8,
      "outputs": [
        {
          "output_type": "stream",
          "name": "stdout",
          "text": [
            "Already up to date.\n"
          ]
        }
      ]
    },
    {
      "cell_type": "code",
      "source": [
        "# change directory into the local repo\n",
        "import os\n",
        "\n",
        "cwd = os.getcwd()\n",
        "if (os.path.samefile(cwd, base_dir) == False) :\n",
        "    os.chdir(base_dir)"
      ],
      "metadata": {
        "id": "UI7Xdd6CXoQM"
      },
      "execution_count": 9,
      "outputs": []
    },
    {
      "cell_type": "code",
      "source": [
        "#basic test to make sure that the file exists - should probably exit code\n",
        "! (test -f \"$fnm\" && echo \"file-exists\") || echo \"file-not-exists\""
      ],
      "metadata": {
        "id": "QorgAwclXpmH",
        "colab": {
          "base_uri": "https://localhost:8080/"
        },
        "outputId": "f1e74d98-d534-480d-9c1b-147dc10dadce"
      },
      "execution_count": 10,
      "outputs": [
        {
          "output_type": "stream",
          "name": "stdout",
          "text": [
            "file-exists\n"
          ]
        }
      ]
    },
    {
      "cell_type": "code",
      "source": [
        "def verify_transcript_file(transcript_dir):\n",
        "    \"\"\"\n",
        "    Verify that the transcript file exists and is not empty.\n",
        "\n",
        "    Args:\n",
        "        transcript_dir (str): Directory where transcript should be located\n",
        "\n",
        "    Returns:\n",
        "        tuple: (bool, str) - (Success status, Full path of transcript file if found)\n",
        "    \"\"\"\n",
        "    transcript_path = os.path.join(transcript_dir, \"transcript.txt\")\n",
        "\n",
        "    print( \"transcript path \", transcript_path )\n",
        "\n",
        "    if not os.path.exists(transcript_path):\n",
        "        logger.error(f\"Transcript file not found at: {transcript_path}\")\n",
        "        return False, None\n",
        "\n",
        "    if os.path.getsize(transcript_path) == 0:\n",
        "        logger.error(f\"Transcript file is empty: {transcript_path}\")\n",
        "        return False, None\n",
        "\n",
        "    # Read first and last lines to verify content\n",
        "    try:\n",
        "        with open(transcript_path, 'r', encoding='utf-8') as f:\n",
        "            first_line = f.readline().strip()\n",
        "            # Go to the end and read last line\n",
        "            f.seek(0, 2)  # Go to end\n",
        "            pos = f.tell() - 2\n",
        "            while pos > 0 and f.read(1) != \"\\n\":\n",
        "                pos -= 1\n",
        "                f.seek(pos, 0)\n",
        "            last_line = f.readline().strip()\n",
        "\n",
        "        if not first_line or not last_line:\n",
        "            logger.error(f\"Transcript file appears incomplete: {transcript_path}\")\n",
        "            return False, None\n",
        "\n",
        "        logger.info(f\"Transcript file verified at: {transcript_path}\")\n",
        "        return True, transcript_path\n",
        "\n",
        "    except Exception as e:\n",
        "        logger.error(f\"Error verifying transcript file: {str(e)}\")\n",
        "        return False, None\n"
      ],
      "metadata": {
        "id": "RZUj74-fxiLA"
      },
      "execution_count": 11,
      "outputs": []
    },
    {
      "cell_type": "code",
      "source": [
        "\n",
        "def get_transcript_dir(base_dir, version_num):\n",
        "    \"\"\"\n",
        "    Construct the full path to the transcript directory.\n",
        "\n",
        "    Args:\n",
        "        base_dir (str): Base directory path\n",
        "        version_num (str): Version number for directory\n",
        "\n",
        "    Returns:\n",
        "        str: Full path to transcript directory\n",
        "    \"\"\"\n",
        "    return os.path.join(base_dir, f\"transcriber_{version_num}\")\n"
      ],
      "metadata": {
        "id": "6FGjNOB0xlaq"
      },
      "execution_count": 12,
      "outputs": []
    },
    {
      "cell_type": "code",
      "source": [
        "def monitor_transcript_progress(transcript_dir):\n",
        "    \"\"\"\n",
        "    Monitor progress by checking for the existence and growth of audio chunks.\n",
        "\n",
        "    Args:\n",
        "        transcript_dir (str): Directory to monitor\n",
        "    \"\"\"\n",
        "    chunks_dir = os.path.join(transcript_dir, \"chunks\")\n",
        "    if os.path.exists(chunks_dir):\n",
        "        files = os.listdir(chunks_dir)\n",
        "        return len(files)\n",
        "    return 0\n"
      ],
      "metadata": {
        "id": "tsiyVG2Uxpin"
      },
      "execution_count": 13,
      "outputs": []
    },
    {
      "cell_type": "code",
      "source": [
        "def import_transcriber_module(full_fnm, base_dir):\n",
        "    \"\"\"\n",
        "    Import the transcriber module safely.\n",
        "\n",
        "    Args:\n",
        "        full_fnm (str): Full path to the module file\n",
        "        base_dir (str): Base directory path\n",
        "\n",
        "    Returns:\n",
        "        module: Imported module object\n",
        "    \"\"\"\n",
        "    try:\n",
        "        # Add base directory to Python path\n",
        "        if base_dir not in sys.path:\n",
        "            sys.path.append(base_dir)\n",
        "\n",
        "        # Get module name without .py extension\n",
        "        module_name = os.path.splitext(os.path.basename(full_fnm))[0]\n",
        "\n",
        "        # Import the module using spec\n",
        "        spec = importlib.util.spec_from_file_location(module_name, full_fnm)\n",
        "        if spec is None:\n",
        "            raise ImportError(f\"Could not load spec for module {module_name}\")\n",
        "\n",
        "        module = importlib.util.module_from_spec(spec)\n",
        "        spec.loader.exec_module(module)\n",
        "\n",
        "        return module\n",
        "\n",
        "    except Exception as e:\n",
        "        logger.error(f\"Error importing transcriber module: {str(e)}\")\n",
        "        raise\n"
      ],
      "metadata": {
        "id": "jJh58zA-xvbE"
      },
      "execution_count": 14,
      "outputs": []
    },
    {
      "cell_type": "code",
      "execution_count": 15,
      "metadata": {
        "id": "zyhS_Dxqw57j"
      },
      "outputs": [],
      "source": [
        "\n",
        "def invoke_youtube_transcriber_args(full_fnm, base_dir, url, version_num, clean_dir=False):\n",
        "    \"\"\"\n",
        "    Invoke the YouTube transcriber module and verify its output.\n",
        "\n",
        "    Args:\n",
        "        full_fnm (str): Full path to the transcriber module\n",
        "        base_dir (str): Base directory path\n",
        "        url (str): YouTube URL to process\n",
        "        version_num (str): Version number for directory naming\n",
        "        clean_dir (bool): Whether to clean existing directory\n",
        "\n",
        "    Returns:\n",
        "        tuple: (bool, str) - (Success status, Full path of transcript file if successful)\n",
        "    \"\"\"\n",
        "    try:\n",
        "        # Verify transcriber module exists\n",
        "        if not os.path.exists(full_fnm):\n",
        "            logger.error(f\"Transcriber module not found at: {full_fnm}\")\n",
        "            return False, None\n",
        "\n",
        "        # Import the module\n",
        "        module = import_transcriber_module(full_fnm, base_dir)\n",
        "\n",
        "        # Get transcript directory path\n",
        "        transcript_dir = get_transcript_dir(base_dir, version_num)\n",
        "\n",
        "        # Process the video - this is a blocking call\n",
        "        logger.info(f\"Starting transcription process for URL: {url}\")\n",
        "        logger.info(\"This process may take 30+ minutes depending on video length...\")\n",
        "\n",
        "        start_time = time.time()\n",
        "\n",
        "        # Start the processing in the main thread (blocking call)\n",
        "        processing_completed = False\n",
        "        try:\n",
        "            module.process_video(\n",
        "                youtube_url=url,\n",
        "                version_num=version_num,\n",
        "                clean_dir=clean_dir,\n",
        "                base_dir=base_dir,\n",
        "            )\n",
        "            processing_completed = True\n",
        "        except Exception as e:\n",
        "            logger.error(f\"Error in process_video: {str(e)}\")\n",
        "            raise\n",
        "\n",
        "        if not processing_completed:\n",
        "            logger.error(\"Processing did not complete successfully\")\n",
        "            return False, None\n",
        "\n",
        "        # Additional verification after completion\n",
        "        elapsed_time = time.time() - start_time\n",
        "        logger.info(f\"Processing completed after {elapsed_time:.1f} seconds\")\n",
        "\n",
        "        # Verify transcript\n",
        "        success, transcript_path = verify_transcript_file(transcript_dir)\n",
        "\n",
        "        if success:\n",
        "            logger.info(\"Transcription process completed successfully\")\n",
        "            return True, transcript_path\n",
        "        else:\n",
        "            logger.error(\"Failed to verify transcript file\")\n",
        "            return False, None\n",
        "\n",
        "    except Exception as e:\n",
        "        logger.error(f\"Error during transcription: {str(e)}\")\n",
        "        traceback.print_exc()\n",
        "        return False, None\n",
        "\n",
        "\n"
      ]
    },
    {
      "cell_type": "code",
      "source": [
        "def display_transcript_sample(transcript_path, num_lines=5):\n",
        "    \"\"\"\n",
        "    Display the first few lines of the transcript.\n",
        "\n",
        "    Args:\n",
        "        transcript_path (str): Path to the transcript file\n",
        "        num_lines (int): Number of lines to display\n",
        "    \"\"\"\n",
        "    try:\n",
        "        with open(transcript_path, 'r', encoding='utf-8') as f:\n",
        "            logger.info(f\"\\nFirst {num_lines} lines of transcript:\")\n",
        "            for i, line in enumerate(f):\n",
        "                if i < num_lines:\n",
        "                    print(line.strip())\n",
        "                else:\n",
        "                    break\n",
        "    except Exception as e:\n",
        "        logger.error(f\"Error reading transcript: {str(e)}\")\n"
      ],
      "metadata": {
        "id": "kryshX22x9Oa"
      },
      "execution_count": 16,
      "outputs": []
    },
    {
      "cell_type": "code",
      "source": [
        "def process_transcription():\n",
        "    \"\"\"Main execution function.\"\"\"\n",
        "    logger.info(f\"Starting transcription process with video: {youtube_url}\")\n",
        "\n",
        "    try:\n",
        "        # Change to correct directory\n",
        "        cwd = os.getcwd()\n",
        "        if not os.path.samefile(cwd, base_dir):\n",
        "            os.chdir(base_dir)\n",
        "        logger.info(f\"Working directory: {os.getcwd()}\")\n",
        "\n",
        "        # Verify transcriber file exists\n",
        "        if not os.path.exists(full_fnm):\n",
        "            logger.error(f\"Transcriber file not found: {full_fnm}\")\n",
        "            sys.exit(1)\n",
        "\n",
        "        # Invoke transcriber with long-running process handling\n",
        "        logger.info(\"Starting transcription process - this may take 30+ minutes...\")\n",
        "        success, transcript_path = invoke_youtube_transcriber_args(\n",
        "            full_fnm,\n",
        "            base_dir,\n",
        "            youtube_url,\n",
        "            version_number,\n",
        "            clean_dir=True\n",
        "        )\n",
        "\n",
        "        if success:\n",
        "            logger.info(f\"Transcription completed successfully\")\n",
        "            logger.info(f\"Transcript file location: {transcript_path}\")\n",
        "\n",
        "            # Display sample of transcript\n",
        "            display_transcript_sample(transcript_path)\n",
        "        else:\n",
        "            logger.error(\"Transcription process failed\")\n",
        "            sys.exit(1)\n",
        "\n",
        "    except Exception as e:\n",
        "        logger.error(f\"Error in main execution: {str(e)}\")\n",
        "        traceback.print_exc()\n",
        "        sys.exit(1)\n",
        "\n"
      ],
      "metadata": {
        "id": "QvD5PeoQyCiR"
      },
      "execution_count": 17,
      "outputs": []
    },
    {
      "cell_type": "code",
      "source": [
        "def transcribe_video():\n",
        "    try:\n",
        "        process_transcription()\n",
        "    except Exception as e:\n",
        "        logger.error(f\"Scaffolding execution failed: {str(e)}\")\n",
        "        traceback.print_exc()\n",
        "        sys.exit(1)"
      ],
      "metadata": {
        "id": "to38Ts-6e3bc"
      },
      "execution_count": 18,
      "outputs": []
    },
    {
      "cell_type": "code",
      "source": [
        "transcribe_video()"
      ],
      "metadata": {
        "id": "ntUjS-PHdT4t",
        "colab": {
          "base_uri": "https://localhost:8080/"
        },
        "outputId": "32d4af40-029a-4670-f911-4e76b9388c84"
      },
      "execution_count": 19,
      "outputs": [
        {
          "output_type": "stream",
          "name": "stdout",
          "text": [
            "[youtube] Extracting URL: https://www.youtube.com/watch?v=cdiD-9MMpb0\n",
            "[youtube] cdiD-9MMpb0: Downloading webpage\n",
            "[youtube] cdiD-9MMpb0: Downloading ios player API JSON\n",
            "[youtube] cdiD-9MMpb0: Downloading mweb player API JSON\n",
            "[youtube] cdiD-9MMpb0: Downloading player f8f53e1a\n",
            "[youtube] cdiD-9MMpb0: Downloading m3u8 information\n",
            "[info] cdiD-9MMpb0: Downloading 1 format(s): 251\n",
            "[download] Destination: /content/drive/My Drive/python-projects/kaggle_experiments/transcriber/LLM-projects/code/LangChain-proj/RAG_transcriber/transcriber_v39/audio_20241215_094655.webm\n",
            "[download] 100% of  167.01MiB in 00:00:09 at 18.50MiB/s  \n",
            "[ExtractAudio] Destination: /content/drive/My Drive/python-projects/kaggle_experiments/transcriber/LLM-projects/code/LangChain-proj/RAG_transcriber/transcriber_v39/audio_20241215_094655.mp3\n",
            "Deleting original file /content/drive/My Drive/python-projects/kaggle_experiments/transcriber/LLM-projects/code/LangChain-proj/RAG_transcriber/transcriber_v39/audio_20241215_094655.webm (pass -k to keep)\n",
            "transcript path  /content/drive/My Drive/python-projects/kaggle_experiments/transcriber//LLM-projects/code/LangChain-proj/RAG_transcriber/transcriber_v39/transcript.txt\n",
            "I think it's possible that physics has exploits and we should be trying to find them. Arranging some kind of a crazy quantum mechanical system that somehow gives you buffer overflow, somehow gives you a rounding error in the floating point. Synthetic intelligences are kind of like the next stage of development. And I don't know where it leads to, like at some point I suspect the universe is some kind of a puzzle. These synthetic AIs will uncover that puzzle and solve it. The following is a conversation with Andrej Karpathy, previously the director of AI at Tesla. And before that at OpenAI and Stanford. He is one of the greatest scientists, engineers and educators in the history of artificial intelligence. This is the Lex Friedman podcast. To support it, please check out our sponsors. And now dear friends, here's Andrej Karpathy. What is a neural network? And why does it seem to do such a surprisingly good job of learning? What is a neural network? It's a mathematical abstraction of the brain. I would say that's how it was originally developed. At the end of the day, it's a mathematical expression. And it's a fairly simple mathematical expression when you get down to it. It's basically a sequence of matrix multiplies, which are really dot products mathematically. And some non-linearity is thrown in. And so it's a very simple mathematical expression. And it's got knobs in it. Many knobs. Many knobs. And these knobs are loosely related to basically the synapses in your brain. They're trainable, they're modifiable. And so the idea is like, we need to find the setting of the knobs that makes the neural net do whatever you want it to do, like classify images and so on. And so there's not too much mystery, I would say in it. Like you might think that basically don't want to endow it with too much meaning with respect to the brain and how it works. It's really just a complicated mathematical expression with knobs, and those knobs need a proper setting for it to do something desirable. Yeah, but poetry is just the collection of letters with spaces, but it can make us feel a certain way. And in that same way, when you get a large number of knobs together, whether it's inside the brain or inside a computer, they seem to surprise us with their power. Yeah, I think that's fair. So basically, I'm underselling it by a lot because you definitely do get very surprising emergent behaviors out of these neural nets when they're large enough and trained on complicated enough problems. Like say, for example, the next word prediction in a massive dataset from the internet. And then these neural nets take on pretty surprising magical properties. Yeah, I think it's kind of interesting how much you can get out of even very simple mathematical formalism. When your brain right now is talking, is it doing next word prediction? Or is it doing something more interesting? Well, it's definitely some kind of a generative model that's a GPT-like and prompted by you. Yeah, so you're giving me a prompt and I'm kind of like responding to it in a generative way. And by yourself, perhaps a little bit? Like, are you adding extra prompts from your own memory inside your head? Or no? Well, it definitely feels like you're referencing some kind of a declarative structure of like memory and so on. And then you're putting that together with your prompt and giving away some answers. How much of what you just said has been said by you before? Nothing, basically, right? No, but if you actually look at all the words you've ever said in your life and you do a search, you'll probably have said a lot of the same words in the same order before. Yeah, could be. I mean, I'm using phrases that are common, et cetera, but I'm remixing it into a pretty sort of unique sentence at the end of the day. But you're right, definitely, there's like a ton of remixing. Why, you didn't, it's like Magnus Carlsen said, I'm rated 2,900 whatever, which is pretty decent. I think you're talking very, you're not giving enough credit to your own nuts here. Why do they seem to, what's your best intuition about this emergent behavior? I mean, it's kind of interesting because I'm simultaneously underselling them, but I also feel like there's an element to which I'm over, like, it's actually kind of incredible that you can get so much emergent magical behavior out of them despite them being so simple mathematically. So I think those are kind of like two surprising statements that are kind of juxtaposed together. And I think basically what it is, is we are actually fairly good at optimizing these neural nets. And when you give them a hard enough problem, they are forced to learn very interesting solutions in the optimization. And those solution basically have these emergent properties that are very interesting. There's wisdom and knowledge in the knobs. And so this representation that's in the knobs, does it make sense to you intuitively that a large number of knobs can hold a representation that captures some deep wisdom about the data it has looked at? It's a lot of knobs. It's a lot of knobs. And somehow, you know, so speaking concretely, one of the neural nets that people are very excited about right now are GPTs, which are basically just next word prediction networks. So you consume a sequence of words from the internet and you try to predict the next word. And once you train these on a large enough dataset, you can basically prompt these neural nets in arbitrary ways and you can ask them to solve problems and they will. So you can just tell them, you can make it look like you're trying to solve some kind of a mathematical problem and they will continue what they think is the solution based on what they've seen on the internet. And very often those solutions look very remarkably consistent, look correct potentially even. Do you still think about the brain side of it? So as neural nets is an abstraction or mathematical abstraction of the brain, do you still draw wisdom from the biological neural networks? Or even the bigger question, so you're a big fan of biology and biological computation. What impressive thing is biology doing to you that computers are not yet? That gap. I would say I'm definitely on, I'm much more hesitant with the analogies to the brain than I think you would see potentially in the field. And I kind of feel like, certainly the way neural networks started is everything stemmed from inspiration by the brain. But at the end of the day, the artifacts that you get after training, they are arrived at by a very different optimization process than the optimization process that gave rise to the brain. And so I think, I kind of think of it as a very complicated alien artifact. It's something different. I'm sorry, the neural nets that we're training. They are complicated alien artifact. I do not make analogies to the brain because I think the optimization process that gave rise to it is very different from the brain. So there was no multi-agent self-play kind of setup and evolution. It was an optimization that is basically what amounts to a compression objective on a massive amount of data. Okay, so artificial neural networks are doing compression and biological neural networks are now- Trying to survive. And they're- Are not really doing anything. They're an agent in a multi-agent self-play system that's been running for a very, very long time. That said, evolution has found that it is very useful to predict and have a predictive model in the brain. And so I think our brain utilizes something that looks like that as a part of it. But it has a lot more gadgets and gizmos and value functions and ancient nuclei that are all trying to make it survive and reproduce and everything else. And the whole thing through embryogenesis is built from a single cell. I mean, it's just the code is inside the DNA and it just builds it up like the entire organism with arms- It's totally crazy. And the head and legs. Yes. And it does it pretty well. It should not be possible. So there's some learning going on. There's some kind of computation going through that building process. I mean, I don't know where, if you were just to look at the entirety of history of life on Earth, what do you think is the most interesting invention? Is it the origin of life itself? Is it just jumping to eukaryotes? Is it mammals? Is it humans themselves, Homo sapiens? The origin of intelligence or highly complex intelligence? Or is it all just a continuation of the same kind of process? Certainly I would say it's an extremely remarkable story that I'm only briefly learning about recently. All the way from, actually you almost have to start at the formation of Earth and all of its conditions and the entire solar system and how everything is arranged with Jupiter and Moon and the habitable zone and everything. And then you have an active Earth that's turning over material. And then you start with abiogenesis and everything. And so it's all like a pretty remarkable story. I'm not sure that I can pick like a single unique piece of it that I find most interesting. I guess for me as an artificial intelligence researcher, it's probably the last piece. We have lots of animals that are not building technological society, but we do. And it seems to have happened very quickly. It seems to have happened very recently. And something very interesting happened there that I don't fully understand. I almost understand everything else, I think intuitively, but I don't understand exactly that part and how quick it was. Both explanations would be interesting. One is that this is just a continuation of the same kind of process. There's nothing special about humans. That would be, deeply understanding that would be very interesting. That we think of ourselves as special, but it was obvious. It was already written in the code that you would have greater and greater intelligence.\n",
            "\n",
            "\n",
            "emerging, and then the other explanation, which is something truly special happened, something like a rare event, whether it's like crazy rare event like Space Odyssey, what would it be? See, if you say like the invention of fire, or the, as Richard Rankin says, the beta males deciding a clever way to kill the alpha males by collaborating, so just optimizing the collaboration, the multi-agent aspect of the multi-agent, and that really being constrained on resources and trying to survive, the collaboration aspect is what created the complex intelligence. But it seems like it's a natural outgrowth of the evolution process. What could possibly be a magical thing that happened, like a rare thing that would say that humans are actually, human-level intelligence is actually a really rare thing in the universe? Yeah, I'm hesitant to say that it is rare, by the way, but it definitely seems like, it's kind of like a punctuated equilibrium where you have lots of exploration, and then you have certain leaps, sparse leaps in between. So of course, like origin of life would be one, you know, DNA, sex, eukaryotic system, eukaryotic life, the endosymbiosis event where the Archeon ate little bacteria, you know, just the whole thing, and then of course emergence of consciousness and so on. So it seems like definitely there are sparse events where massive amount of progress was made, but yeah, it's kind of hard to pick one. So you don't think humans are unique? Gotta ask you, how many intelligent alien civilizations do you think are out there? And is their intelligence different or similar to ours? Yeah. I've been preoccupied with this question quite a bit recently, basically the Fermi paradox and just thinking through. And the reason, actually, that I am very interested in the origin of life is fundamentally trying to understand how common it is that there are technological societies out there in space. And the more I study it, the more I think that there should be quite a lot. Why haven't we heard from them? Because I agree with you. It feels like I just don't see why what we did here on Earth is so difficult to do. Yeah, and especially when you get into the details of it, I used to think origin of life was very, it was this magical rare event, but then you read books like, for example, Nick Lane, The Vital Question, Life Ascending, et cetera. And he really gets in and he really makes you believe that this is not that rare. Basic chemistry. You have an active Earth and you have your alkaline vents and you have lots of alkaline waters mixing with the ocean and you have your proton gradients and you have the little porous pockets of these alkaline vents that concentrate chemistry. And basically as he steps through all of these little pieces you start to understand that actually this is not that crazy you could see this happen on other systems. And he really takes you from just a geology to primitive life. And he makes it feel like it's actually pretty plausible. And also like the origin of life didn't, was actually fairly fast after formation of Earth. If I remember correctly, just a few hundred million years or something like that after basically when it was possible life actually arose. And so that makes me feel like that is not the constraint. That is not the limiting variable and that life should actually be fairly common. And then where the drop-offs are is very interesting to think about. I currently think that there's no major drop-offs basically. And so there should be quite a lot of life. And basically where that brings me to then is the only way to reconcile the fact that we haven't found anyone and so on is that we can't see them. We can't observe them. And just a quick brief comment. Nick Lane and a lot of biologists I talk to, they really seem to think that the jump from bacteria to more complex organisms is the hardest jump. The eukaryotic life basically. Yeah, which I don't, I get it. They're much more knowledgeable than me about like the intricacies of biology. But that seems like crazy. Because how much, how many single cell organisms are there? Like and how much time you have? Surely it's not that difficult. Like in a billion years, it's not even that long of a time really. Just all these bacteria under constrained resources battling it out. I'm sure they can invent more complex. Like I don't understand. It's like how to move from a hello world program to like invent a function or something like that. I don't. Yeah. So I don't, yeah, so I'm with you. I just feel like I don't see any. If the origin of life, that would be my intuition. That's the hardest thing. But if that's not the hardest thing because it happens so quickly, then it's got to be everywhere. And yeah, maybe we're just too dumb to see it. Well, it's just, we don't have really good mechanisms for seeing this life. I mean, by what, how? So I'm not an expert just to preface this, but just from what I've been looking at it. On aliens. Who's, I want to meet an expert on alien intelligence and how to communicate. I'm very suspicious of our ability to find these intelligences out there and to find these, or it's like radio waves, for example, are terrible. Their power drops off as basically one over R square. So I remember reading that our current radio waves would not be, the ones that we are broadcasting would not be measurable by our devices today. Only like, was it like one 10th of a light year away? Like not even, basically tiny distance because you really need like a targeted transmission of massive power directed somewhere for this to be picked up on long distances. And so I just think that our ability to measure is not amazing. I think there's probably other civilizations out there. And then the big question is why don't they build one on their probes and why don't they interstellar travel across the entire galaxy? And my current answer is it's probably interstellar travel is like really hard. You have the interstellar medium. If you want to move at close to the speed of light, you're going to be encountering bullets along the way because even like tiny hydrogen atoms and little particles of dust are basically have like massive kinetic energy at those speeds. And so basically you need some kind of shielding. You need, you have all the cosmic radiation. It's just like brutal out there. It's really hard. And so my thinking is maybe interstellar travel is just extremely hard. And you have to go very slow. Like billions of years to build hard? It feels like we're not a billion years away from doing that. It just might be that it's very, you have to go very slowly potentially as an example through space. Right, as opposed to close to the speed of light. So I'm suspicious basically of our ability to measure life and I'm suspicious of the ability to just permeate all of space in the galaxy or across galaxies. And that's the only way that I can certainly, I can currently see a way around it. Yeah, it's kind of mind blowing to think that there's trillions of intelligent alien civilizations out there kind of slowly traveling through space to meet each other. And some of them meet, some of them go to war, some of them collaborate. Or they're all just independent. They're all just like little pockets, I don't know. Well, statistically, if there's like, if there's trillions of them, surely some of them, some of the pockets are close enough together. Some of them happen to be close, yeah. Close enough to see each other. And then once you, see once you see something that is definitely complex life, like if we see something, we're probably going to be severe, like intensely, aggressively motivated to figure out what the hell that is and try to meet them. But what would be your first instinct to try to, at a generational level, meet them or defend against them? Or what would be your instinct as a president of the United States and a scientist? I don't know which hat you prefer in this question. Yeah, I think the question, it's really hard. I will say, like, for example, for us, we have lots of primitive life forms on Earth next to us. We have all kinds of ants and everything else. And we share a space with them. And we are hesitant to impact on them and to, we are trying to protect them by default because they are amazing, interesting dynamical systems that took a long time to evolve and they are interesting and special. And I don't know that you want to destroy that by default. And so I like complex dynamical systems that took a lot of time to evolve. I think I'd like to, I'd like to preserve it if I can afford to. And I'd like to think that the same would be true about the galactic resources and that they would think that we're kind of incredible, interesting story that took time, took a few billion years to unravel. And you don't want to just destroy it. I could see two aliens talking about Earth right now and saying, I'm a big fan of complex dynamical systems. So I think it was a value to preserve these and will basically are a video game they watch or show a TV show that they watch. Yeah, I think you would need like a very good reason, I think, to destroy it. Like why don't we destroy these ant farms and so on? It's because we're not actually like really in direct competition with them right now. We do it accidentally and so on, but there's plenty of resources. And so why would you destroy something that is so interesting and precious? Well, from a scientific perspective, you might probe it. You might interact with it lightly. You might want to learn something from it, right? So I wonder, there's could be certain physical phenomena that we think is a physical phenomena, but it's actually interacting with us to like poke the finger and see what happens. I think it should be very interesting to scientists, other alien scientists, what happened here. And you know, what we're seeing today is a snapshot. Basically, it's a result of a huge amount of computation over like a billion years or something like that. So it could have been initiated by aliens. This could be a computer running a program. Like when, okay, if you had the power to do this,\n",
            "\n"
          ]
        }
      ]
    }
  ]
}