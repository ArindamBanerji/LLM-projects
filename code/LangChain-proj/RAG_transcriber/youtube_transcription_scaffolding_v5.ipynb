{
  "nbformat": 4,
  "nbformat_minor": 0,
  "metadata": {
    "colab": {
      "provenance": [],
      "machine_shape": "hm",
      "gpuType": "L4"
    },
    "kernelspec": {
      "name": "python3",
      "display_name": "Python 3"
    },
    "language_info": {
      "name": "python"
    },
    "accelerator": "GPU"
  },
  "cells": [
    {
      "cell_type": "markdown",
      "source": [
        "# -*- coding: utf-8 -*-\n",
        "\"\"\"youtube_scaffolding_v5.ipynb\n",
        "\n",
        "A scaffolding script to invoke the YouTube transcriber module and verify its output.\n",
        "Designed to run in Google Colab.\n",
        "\"\"\"\n"
      ],
      "metadata": {
        "id": "Gq_AV5AOxCb0"
      }
    },
    {
      "cell_type": "code",
      "source": [
        "import subprocess\n",
        "import sys\n",
        "\n",
        "def install_requirements():\n",
        "    \"\"\"Install required packages using pip.\"\"\"\n",
        "    packages = [\n",
        "        'importlib',\n",
        "        'pathlib'\n",
        "    ]\n",
        "    try:\n",
        "        for package in packages:\n",
        "            subprocess.check_call([sys.executable, \"-m\", \"pip\", \"install\", \"--upgrade\", package])\n",
        "    except Exception as e:\n",
        "        print(f\"Error installing requirements: {str(e)}\")\n",
        "        sys.exit(1)\n"
      ],
      "metadata": {
        "id": "rio9LzXLxJsy"
      },
      "execution_count": 1,
      "outputs": []
    },
    {
      "cell_type": "code",
      "source": [
        "# Install required packages\n",
        "install_requirements()\n"
      ],
      "metadata": {
        "id": "wuYpQj_QxNNo"
      },
      "execution_count": 2,
      "outputs": []
    },
    {
      "cell_type": "code",
      "source": [
        "# Import required libraries\n",
        "import os\n",
        "import importlib\n",
        "import importlib.util\n",
        "import traceback\n",
        "import time\n",
        "import logging\n",
        "from pathlib import Path\n",
        "from google.colab import drive\n"
      ],
      "metadata": {
        "id": "GGevtZkQxQ0v"
      },
      "execution_count": 3,
      "outputs": []
    },
    {
      "cell_type": "code",
      "source": [
        "# Mount Google Drive\n",
        "drive.mount('/content/drive')\n"
      ],
      "metadata": {
        "id": "JKRXXcsYxUfS",
        "colab": {
          "base_uri": "https://localhost:8080/"
        },
        "outputId": "ec6fccc6-2579-4892-92de-aa822f6dbb49"
      },
      "execution_count": 4,
      "outputs": [
        {
          "output_type": "stream",
          "name": "stdout",
          "text": [
            "Drive already mounted at /content/drive; to attempt to forcibly remount, call drive.mount(\"/content/drive\", force_remount=True).\n"
          ]
        }
      ]
    },
    {
      "cell_type": "code",
      "source": [
        "# VARS: Set these variables\n",
        "version_number = 'v38'\n",
        "youtube_url = \"https://www.youtube.com/watch?v=cdiD-9MMpb0\"\n",
        "code_version = 'v17'  # Updated to match current transcriber version\n",
        "base_dir = \"/content/drive/My Drive/python-projects/kaggle_experiments/transcriber/\"\n",
        "fnm = \"youtube_transcriber\" + \"_\" + code_version + \".py\"\n",
        "cur_fnm = fnm\n",
        "full_fnm = base_dir + cur_fnm\n"
      ],
      "metadata": {
        "id": "GGmUwvjPxYnS"
      },
      "execution_count": 5,
      "outputs": []
    },
    {
      "cell_type": "code",
      "source": [
        "# Configure logging\n",
        "logging.basicConfig(\n",
        "    level=logging.INFO,\n",
        "    format='%(asctime)s - %(levelname)s - %(message)s'\n",
        ")\n",
        "logger = logging.getLogger(__name__)\n"
      ],
      "metadata": {
        "id": "VKS9u4llxczK"
      },
      "execution_count": 6,
      "outputs": []
    },
    {
      "cell_type": "code",
      "source": [
        "def verify_transcript_file(transcript_dir):\n",
        "    \"\"\"\n",
        "    Verify that the transcript file exists and is not empty.\n",
        "\n",
        "    Args:\n",
        "        transcript_dir (str): Directory where transcript should be located\n",
        "\n",
        "    Returns:\n",
        "        tuple: (bool, str) - (Success status, Full path of transcript file if found)\n",
        "    \"\"\"\n",
        "    transcript_path = os.path.join(transcript_dir, \"transcript.txt\")\n",
        "\n",
        "    if not os.path.exists(transcript_path):\n",
        "        logger.error(f\"Transcript file not found at: {transcript_path}\")\n",
        "        return False, None\n",
        "\n",
        "    if os.path.getsize(transcript_path) == 0:\n",
        "        logger.error(f\"Transcript file is empty: {transcript_path}\")\n",
        "        return False, None\n",
        "\n",
        "    # Read first and last lines to verify content\n",
        "    try:\n",
        "        with open(transcript_path, 'r', encoding='utf-8') as f:\n",
        "            first_line = f.readline().strip()\n",
        "            # Go to the end and read last line\n",
        "            f.seek(0, 2)  # Go to end\n",
        "            pos = f.tell() - 2\n",
        "            while pos > 0 and f.read(1) != \"\\n\":\n",
        "                pos -= 1\n",
        "                f.seek(pos, 0)\n",
        "            last_line = f.readline().strip()\n",
        "\n",
        "        if not first_line or not last_line:\n",
        "            logger.error(f\"Transcript file appears incomplete: {transcript_path}\")\n",
        "            return False, None\n",
        "\n",
        "        logger.info(f\"Transcript file verified at: {transcript_path}\")\n",
        "        return True, transcript_path\n",
        "\n",
        "    except Exception as e:\n",
        "        logger.error(f\"Error verifying transcript file: {str(e)}\")\n",
        "        return False, None\n"
      ],
      "metadata": {
        "id": "RZUj74-fxiLA"
      },
      "execution_count": 7,
      "outputs": []
    },
    {
      "cell_type": "code",
      "source": [
        "\n",
        "def get_transcript_dir(base_dir, version_num):\n",
        "    \"\"\"\n",
        "    Construct the full path to the transcript directory.\n",
        "\n",
        "    Args:\n",
        "        base_dir (str): Base directory path\n",
        "        version_num (str): Version number for directory\n",
        "\n",
        "    Returns:\n",
        "        str: Full path to transcript directory\n",
        "    \"\"\"\n",
        "    return os.path.join(base_dir, f\"transcriber_{version_num}\")\n"
      ],
      "metadata": {
        "id": "6FGjNOB0xlaq"
      },
      "execution_count": 8,
      "outputs": []
    },
    {
      "cell_type": "code",
      "source": [
        "def monitor_transcript_progress(transcript_dir):\n",
        "    \"\"\"\n",
        "    Monitor progress by checking for the existence and growth of audio chunks.\n",
        "\n",
        "    Args:\n",
        "        transcript_dir (str): Directory to monitor\n",
        "    \"\"\"\n",
        "    chunks_dir = os.path.join(transcript_dir, \"chunks\")\n",
        "    if os.path.exists(chunks_dir):\n",
        "        files = os.listdir(chunks_dir)\n",
        "        return len(files)\n",
        "    return 0\n"
      ],
      "metadata": {
        "id": "tsiyVG2Uxpin"
      },
      "execution_count": 9,
      "outputs": []
    },
    {
      "cell_type": "code",
      "source": [
        "def import_transcriber_module(full_fnm, base_dir):\n",
        "    \"\"\"\n",
        "    Import the transcriber module safely.\n",
        "\n",
        "    Args:\n",
        "        full_fnm (str): Full path to the module file\n",
        "        base_dir (str): Base directory path\n",
        "\n",
        "    Returns:\n",
        "        module: Imported module object\n",
        "    \"\"\"\n",
        "    try:\n",
        "        # Add base directory to Python path\n",
        "        if base_dir not in sys.path:\n",
        "            sys.path.append(base_dir)\n",
        "\n",
        "        # Get module name without .py extension\n",
        "        module_name = os.path.splitext(os.path.basename(full_fnm))[0]\n",
        "\n",
        "        # Import the module using spec\n",
        "        spec = importlib.util.spec_from_file_location(module_name, full_fnm)\n",
        "        if spec is None:\n",
        "            raise ImportError(f\"Could not load spec for module {module_name}\")\n",
        "\n",
        "        module = importlib.util.module_from_spec(spec)\n",
        "        spec.loader.exec_module(module)\n",
        "\n",
        "        return module\n",
        "\n",
        "    except Exception as e:\n",
        "        logger.error(f\"Error importing transcriber module: {str(e)}\")\n",
        "        raise\n"
      ],
      "metadata": {
        "id": "jJh58zA-xvbE"
      },
      "execution_count": 10,
      "outputs": []
    },
    {
      "cell_type": "code",
      "execution_count": 11,
      "metadata": {
        "id": "zyhS_Dxqw57j"
      },
      "outputs": [],
      "source": [
        "\n",
        "def invoke_youtube_transcriber_args(full_fnm, base_dir, url, version_num, clean_dir=False):\n",
        "    \"\"\"\n",
        "    Invoke the YouTube transcriber module and verify its output.\n",
        "\n",
        "    Args:\n",
        "        full_fnm (str): Full path to the transcriber module\n",
        "        base_dir (str): Base directory path\n",
        "        url (str): YouTube URL to process\n",
        "        version_num (str): Version number for directory naming\n",
        "        clean_dir (bool): Whether to clean existing directory\n",
        "\n",
        "    Returns:\n",
        "        tuple: (bool, str) - (Success status, Full path of transcript file if successful)\n",
        "    \"\"\"\n",
        "    try:\n",
        "        # Verify transcriber module exists\n",
        "        if not os.path.exists(full_fnm):\n",
        "            logger.error(f\"Transcriber module not found at: {full_fnm}\")\n",
        "            return False, None\n",
        "\n",
        "        # Import the module\n",
        "        module = import_transcriber_module(full_fnm, base_dir)\n",
        "\n",
        "        # Get transcript directory path\n",
        "        transcript_dir = get_transcript_dir(base_dir, version_num)\n",
        "\n",
        "        # Process the video - this is a blocking call\n",
        "        logger.info(f\"Starting transcription process for URL: {url}\")\n",
        "        logger.info(\"This process may take 30+ minutes depending on video length...\")\n",
        "\n",
        "        start_time = time.time()\n",
        "\n",
        "        # Start the processing in the main thread (blocking call)\n",
        "        processing_completed = False\n",
        "        try:\n",
        "            module.process_video(\n",
        "                youtube_url=url,\n",
        "                version_num=version_num,\n",
        "                clean_dir=clean_dir,\n",
        "                base_dir=base_dir,\n",
        "            )\n",
        "            processing_completed = True\n",
        "        except Exception as e:\n",
        "            logger.error(f\"Error in process_video: {str(e)}\")\n",
        "            raise\n",
        "\n",
        "        if not processing_completed:\n",
        "            logger.error(\"Processing did not complete successfully\")\n",
        "            return False, None\n",
        "\n",
        "        # Additional verification after completion\n",
        "        elapsed_time = time.time() - start_time\n",
        "        logger.info(f\"Processing completed after {elapsed_time:.1f} seconds\")\n",
        "\n",
        "        # Verify transcript\n",
        "        success, transcript_path = verify_transcript_file(transcript_dir)\n",
        "\n",
        "        if success:\n",
        "            logger.info(\"Transcription process completed successfully\")\n",
        "            return True, transcript_path\n",
        "        else:\n",
        "            logger.error(\"Failed to verify transcript file\")\n",
        "            return False, None\n",
        "\n",
        "    except Exception as e:\n",
        "        logger.error(f\"Error during transcription: {str(e)}\")\n",
        "        traceback.print_exc()\n",
        "        return False, None\n",
        "\n",
        "\n"
      ]
    },
    {
      "cell_type": "code",
      "source": [
        "def display_transcript_sample(transcript_path, num_lines=5):\n",
        "    \"\"\"\n",
        "    Display the first few lines of the transcript.\n",
        "\n",
        "    Args:\n",
        "        transcript_path (str): Path to the transcript file\n",
        "        num_lines (int): Number of lines to display\n",
        "    \"\"\"\n",
        "    try:\n",
        "        with open(transcript_path, 'r', encoding='utf-8') as f:\n",
        "            logger.info(f\"\\nFirst {num_lines} lines of transcript:\")\n",
        "            for i, line in enumerate(f):\n",
        "                if i < num_lines:\n",
        "                    print(line.strip())\n",
        "                else:\n",
        "                    break\n",
        "    except Exception as e:\n",
        "        logger.error(f\"Error reading transcript: {str(e)}\")\n"
      ],
      "metadata": {
        "id": "kryshX22x9Oa"
      },
      "execution_count": 12,
      "outputs": []
    },
    {
      "cell_type": "code",
      "source": [
        "def process_transcription():\n",
        "    \"\"\"Main execution function.\"\"\"\n",
        "    logger.info(f\"Starting transcription process with video: {youtube_url}\")\n",
        "\n",
        "    try:\n",
        "        # Change to correct directory\n",
        "        cwd = os.getcwd()\n",
        "        if not os.path.samefile(cwd, base_dir):\n",
        "            os.chdir(base_dir)\n",
        "        logger.info(f\"Working directory: {os.getcwd()}\")\n",
        "\n",
        "        # Verify transcriber file exists\n",
        "        if not os.path.exists(full_fnm):\n",
        "            logger.error(f\"Transcriber file not found: {full_fnm}\")\n",
        "            sys.exit(1)\n",
        "\n",
        "        # Invoke transcriber with long-running process handling\n",
        "        logger.info(\"Starting transcription process - this may take 30+ minutes...\")\n",
        "        success, transcript_path = invoke_youtube_transcriber_args(\n",
        "            full_fnm,\n",
        "            base_dir,\n",
        "            youtube_url,\n",
        "            version_number,\n",
        "            clean_dir=True\n",
        "        )\n",
        "\n",
        "        if success:\n",
        "            logger.info(f\"Transcription completed successfully\")\n",
        "            logger.info(f\"Transcript file location: {transcript_path}\")\n",
        "\n",
        "            # Display sample of transcript\n",
        "            display_transcript_sample(transcript_path)\n",
        "        else:\n",
        "            logger.error(\"Transcription process failed\")\n",
        "            sys.exit(1)\n",
        "\n",
        "    except Exception as e:\n",
        "        logger.error(f\"Error in main execution: {str(e)}\")\n",
        "        traceback.print_exc()\n",
        "        sys.exit(1)\n",
        "\n"
      ],
      "metadata": {
        "id": "QvD5PeoQyCiR"
      },
      "execution_count": 13,
      "outputs": []
    },
    {
      "cell_type": "code",
      "source": [
        "def transcribe_video():\n",
        "    try:\n",
        "        process_transcription()\n",
        "    except Exception as e:\n",
        "        logger.error(f\"Scaffolding execution failed: {str(e)}\")\n",
        "        traceback.print_exc()\n",
        "        sys.exit(1)"
      ],
      "metadata": {
        "id": "to38Ts-6e3bc"
      },
      "execution_count": 18,
      "outputs": []
    },
    {
      "cell_type": "code",
      "source": [
        "transcribe_video()"
      ],
      "metadata": {
        "colab": {
          "base_uri": "https://localhost:8080/"
        },
        "id": "ntUjS-PHdT4t",
        "outputId": "180e24f7-837c-41e9-cd2e-2ce7f87a51e1"
      },
      "execution_count": null,
      "outputs": [
        {
          "output_type": "stream",
          "name": "stdout",
          "text": [
            "[youtube] Extracting URL: https://www.youtube.com/watch?v=cdiD-9MMpb0\n",
            "[youtube] cdiD-9MMpb0: Downloading webpage\n",
            "[youtube] cdiD-9MMpb0: Downloading ios player API JSON\n",
            "[youtube] cdiD-9MMpb0: Downloading mweb player API JSON\n",
            "[youtube] cdiD-9MMpb0: Downloading m3u8 information\n",
            "[info] cdiD-9MMpb0: Downloading 1 format(s): 251\n",
            "[download] Destination: /content/drive/My Drive/python-projects/kaggle_experiments/transcriber/transcriber_v38/audio_20241214_232412.webm\n",
            "[download] 100% of  167.01MiB in 00:00:03 at 46.84MiB/s  \n",
            "[ExtractAudio] Destination: /content/drive/My Drive/python-projects/kaggle_experiments/transcriber/transcriber_v38/audio_20241214_232412.mp3\n",
            "Deleting original file /content/drive/My Drive/python-projects/kaggle_experiments/transcriber/transcriber_v38/audio_20241214_232412.webm (pass -k to keep)\n"
          ]
        }
      ]
    }
  ]
}